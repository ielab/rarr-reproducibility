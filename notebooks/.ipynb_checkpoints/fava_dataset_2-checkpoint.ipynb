{
 "cells": [
  {
   "cell_type": "markdown",
   "id": "ad7d1628-fea1-4034-b302-406b30520e9a",
   "metadata": {},
   "source": [
    "# Set number of baseline queries for q5-q7"
   ]
  },
  {
   "cell_type": "code",
   "execution_count": 1,
   "id": "d8d19ed8-36db-4a94-ba1b-1e88f2e31c4b",
   "metadata": {},
   "outputs": [],
   "source": [
    "from utilities import load_jsonl\n",
    "import json"
   ]
  },
  {
   "cell_type": "code",
   "execution_count": 2,
   "id": "172ffe11-7f9e-47c5-8457-dc09802738d7",
   "metadata": {},
   "outputs": [],
   "source": [
    "fava_q1 = load_jsonl(path=\"/Users/jjr/output/rarr-rep/output/fava/fava_q1_r1_a1.jsonl\")\n",
    "wiki_q1 = load_jsonl(path=\"/Users/jjr/output/rarr-rep/output/wiki/wiki_q1_r1_a1.jsonl\")\n",
    "\n",
    "fava_new_input = load_jsonl(path=\"../input/processed/fava_input_processed.jsonl\")\n",
    "wiki_new_input = load_jsonl(path=\"../input/processed/wiki_input_processed.jsonl\")"
   ]
  },
  {
   "cell_type": "code",
   "execution_count": 3,
   "id": "da91e18c-e413-4943-8661-50d714de53d9",
   "metadata": {},
   "outputs": [],
   "source": [
    "\n",
    "for i in range(len(fava_new_input)):\n",
    "    # count the number of queries from q1\n",
    "    num_queries = len(fava_q1[i].get(\"queries\",[]))\n",
    "    # set the number of baseline queries\n",
    "    fava_new_input[i][\"baseline_query_count\"] = num_queries\n",
    "    \n",
    "for i in range(len(wiki_new_input)):\n",
    "    # count the number of queries from q1\n",
    "    num_queries = len(wiki_q1[i].get(\"queries\", []))\n",
    "    # set the number of baseline queries\n",
    "    wiki_new_input[i][\"baseline_query_count\"] = num_queries    \n",
    "    "
   ]
  },
  {
   "cell_type": "markdown",
   "id": "6ee609ae-603d-4dd3-acdb-0ad8a7c8e19f",
   "metadata": {},
   "source": [
    "# write new input data"
   ]
  },
  {
   "cell_type": "code",
   "execution_count": 8,
   "id": "43dd4ae7-caa9-4e76-b879-1192031a7f83",
   "metadata": {},
   "outputs": [],
   "source": [
    "# Write to a .jsonl file\n",
    "with open(\"../input/processed/fava_input_processed.jsonl\", 'w') as f:\n",
    "    for entry in fava_new_input:\n",
    "        f.write(json.dumps(entry) + '\\n')\n",
    "\n",
    "# Write to a .jsonl file\n",
    "with open(\"../input/processed/wiki_input_processed.jsonl\", 'w') as f:\n",
    "    for entry in wiki_new_input:\n",
    "        f.write(json.dumps(entry) + '\\n')"
   ]
  }
 ],
 "metadata": {
  "kernelspec": {
   "display_name": "rarr-rep",
   "language": "python",
   "name": "rarr-rep"
  },
  "language_info": {
   "codemirror_mode": {
    "name": "ipython",
    "version": 3
   },
   "file_extension": ".py",
   "mimetype": "text/x-python",
   "name": "python",
   "nbconvert_exporter": "python",
   "pygments_lexer": "ipython3",
   "version": "3.12.8"
  }
 },
 "nbformat": 4,
 "nbformat_minor": 5
}
